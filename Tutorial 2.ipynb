{
 "cells": [
  {
   "cell_type": "code",
   "execution_count": 1,
   "metadata": {
    "collapsed": true
   },
   "outputs": [],
   "source": [
    "m = 1.\n",
    "sigma = 0.5\n",
    "alpha = 1.3\n",
    "n = 1."
   ]
  },
  {
   "cell_type": "code",
   "execution_count": 2,
   "metadata": {
    "collapsed": true
   },
   "outputs": [],
   "source": [
    "import numpy as np"
   ]
  },
  {
   "cell_type": "code",
   "execution_count": 23,
   "metadata": {},
   "outputs": [
    {
     "name": "stdout",
     "output_type": "stream",
     "text": [
      "Expectation of X1.mean is 1.000000, estimation is 1.000226\n",
      "Expectation of X2.mean is 1.300000, estimation is 1.300180\n",
      "[[ 0.24984404  0.32496733]\n",
      " [ 0.32496733  1.42338159]]\n"
     ]
    }
   ],
   "source": [
    "N = int(1e7)\n",
    "X1 = np.random.randn(N) * sigma + m\n",
    "X2 = X1 * alpha + np.random.randn(N) * n\n",
    "print('Expectation of X1.mean is %f, estimation is %f' % (m, X1.mean()))\n",
    "print('Expectation of X2.mean is %f, estimation is %f' % (alpha * m, X2.mean()))\n",
    "print(np.cov(np.vstack([X1,X2])))"
   ]
  },
  {
   "cell_type": "code",
   "execution_count": 24,
   "metadata": {},
   "outputs": [
    {
     "name": "stdout",
     "output_type": "stream",
     "text": [
      "0.25\n",
      "1.4225\n"
     ]
    }
   ],
   "source": [
    "print(sigma ** 2)\n",
    "print(alpha**2 * sigma**2 + n**2)"
   ]
  },
  {
   "cell_type": "code",
   "execution_count": null,
   "metadata": {
    "collapsed": true
   },
   "outputs": [],
   "source": []
  }
 ],
 "metadata": {
  "kernelspec": {
   "display_name": "Python 3",
   "language": "python",
   "name": "python3"
  },
  "language_info": {
   "codemirror_mode": {
    "name": "ipython",
    "version": 3
   },
   "file_extension": ".py",
   "mimetype": "text/x-python",
   "name": "python",
   "nbconvert_exporter": "python",
   "pygments_lexer": "ipython3",
   "version": "3.6.2"
  }
 },
 "nbformat": 4,
 "nbformat_minor": 2
}
